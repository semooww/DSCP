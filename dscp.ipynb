{
 "cells": [
  {
   "cell_type": "code",
   "execution_count": 22,
   "metadata": {
    "collapsed": true
   },
   "outputs": [],
   "source": [
    "import numpy as np\n",
    "import pandas as pd\n",
    "import seaborn as sns\n",
    "import os\n",
    "import matplotlib.pyplot as plt\n",
    "import cv2\n",
    "from sklearn.model_selection import train_test_split\n",
    "import warnings\n",
    "\n",
    "warnings.filterwarnings('ignore')"
   ]
  },
  {
   "cell_type": "code",
   "execution_count": 23,
   "outputs": [
    {
     "name": "stdout",
     "output_type": "stream",
     "text": [
      "There are 4 folder in dataset.\n",
      "\t-There are 300 images in 1_normal folder.\n",
      "\t-There are 100 images in 2_cataract folder.\n",
      "\t-There are 101 images in 2_glaucoma folder.\n",
      "\t-There are 100 images in 3_retina_disease folder.\n"
     ]
    },
    {
     "data": {
      "text/plain": "'\\nclass labels in dataframe\\nnormal->0\\ncataract->1\\nglaucoma->2\\nretina->3\\n'"
     },
     "execution_count": 23,
     "metadata": {},
     "output_type": "execute_result"
    }
   ],
   "source": [
    "DATASET_PATH = r\"./dataset/\"\n",
    "IMAGE_WIDTH = 256\n",
    "IMAGE_HEIGHT = 192\n",
    "dataset_folders = []\n",
    "total=0\n",
    "print(f\"There are {len(os.listdir(DATASET_PATH))} folder in dataset.\")\n",
    "for path in sorted(os.listdir(DATASET_PATH)):\n",
    "    print(f\"\\t-There are {len(os.listdir(DATASET_PATH + path))} images in {path} folder.\")\n",
    "    total+=len(os.listdir(DATASET_PATH + path))\n",
    "    folder_path = DATASET_PATH + path\n",
    "    dataset_folders.append(folder_path)\n",
    "\n",
    "df = pd.DataFrame(0,\n",
    "                  columns=['paths',\n",
    "                           'class-label'],\n",
    "                  index=range(total))\n",
    "i=0\n",
    "for p,path in enumerate(dataset_folders):\n",
    "    for sub_path in sorted(os.listdir(path)):\n",
    "        df.iloc[i, 0] = path+\"/\"+sub_path\n",
    "        df.iloc[i,1]=p\n",
    "        i+=1\n",
    "\"\"\"\n",
    "class labels in dataframe\n",
    "normal->0\n",
    "cataract->1\n",
    "glaucoma->2\n",
    "retina->3\n",
    "\"\"\"\n"
   ],
   "metadata": {
    "collapsed": false
   }
  },
  {
   "cell_type": "code",
   "execution_count": 24,
   "outputs": [
    {
     "name": "stdout",
     "output_type": "stream",
     "text": [
      "                                         paths  class-label\n",
      "487      ./dataset/2_glaucoma/Glaucoma_088.png            2\n",
      "16               ./dataset/1_normal/NL_017.png            0\n",
      "158              ./dataset/1_normal/NL_159.png            0\n",
      "132              ./dataset/1_normal/NL_133.png            0\n",
      "243              ./dataset/1_normal/NL_244.png            0\n",
      "584  ./dataset/3_retina_disease/Retina_084.png            3\n",
      "306      ./dataset/2_cataract/cataract_007.png            1\n",
      "66               ./dataset/1_normal/NL_067.png            0\n",
      "136              ./dataset/1_normal/NL_137.png            0\n",
      "352      ./dataset/2_cataract/cataract_053.png            1\n"
     ]
    }
   ],
   "source": [
    "#To see content of data frame\n",
    "print(df.sample(frac=1).head(10))"
   ],
   "metadata": {
    "collapsed": false
   }
  },
  {
   "cell_type": "markdown",
   "source": [
    "# Pre-processing\n",
    "Image preprocessing techniques are methods used to improve the quality and consistency of an image before it is used in a computer vision algorithm. These techniques can include things like adjusting the brightness or contrast of the image, removing noise or artifacts, and resizing or cropping the image to focus on the most important features. Some common image preprocessing techniques include histogram equalization, blurring, and thresholding. These techniques can help to make an image more suitable for analysis by a computer vision algorithm, and can improve the accuracy and performance of the algorithm."
   ],
   "metadata": {
    "collapsed": false
   }
  },
  {
   "cell_type": "markdown",
   "source": [
    "# Image Normalization\n",
    "Image normalization is a process in which the values of pixels in an image are adjusted so that they fall within a specific range, typically between 0 and 1 or between -1 and 1. There are several different techniques that can be used to perform image normalization, including scaling, centering, and standardization.\n",
    "\n",
    "Scaling is a technique in which the values of the pixels in an image are multiplied by a constant value, resulting in an image with pixel values that are larger or smaller than the original. This can be useful for adjusting the contrast of an image, as well as for bringing the values of the pixels within a specific range.\n",
    "\n",
    "Centering is a technique in which the values of the pixels in an image are shifted so that the mean value of the pixels is zero. This can be useful for removing the overall brightness or darkness of an image, and for making it easier to analyze the image using statistical techniques.\n",
    "\n",
    "Standardization is a technique in which the values of the pixels in an image are transformed so that they have a mean of zero and a standard deviation of one. This can be useful for making the values of the pixels in an image comparable to those in other images, and for making it easier to perform certain types of analysis on the image.\n",
    "\n",
    "Other techniques for image normalization include histogram equalization, which adjusts the contrast of an image by spreading out the most common pixel values, and min-max normalization, which scales the values of the pixels in an image to fall within a specified range."
   ],
   "metadata": {
    "collapsed": false
   }
  },
  {
   "cell_type": "markdown",
   "source": [
    "## Seam Carving\n",
    "Seam-carving is an image resizing technique that involves removing pixels from an image in a way that is intended to preserve the most important features of the image. It is often used for content-aware image resizing, where the goal is to resize an image without distorting the most important objects in the image."
   ],
   "metadata": {
    "collapsed": false
   }
  },
  {
   "cell_type": "code",
   "execution_count": 25,
   "outputs": [],
   "source": [
    "# Split dataframe to train and test data\n",
    "SEED=42\n",
    "Y=df.pop(\"class-label\")\n",
    "X=df\n",
    "X_train,X_test,y_train,y_test = train_test_split(X.index,Y,test_size=0.2)"
   ],
   "metadata": {
    "collapsed": false
   }
  },
  {
   "cell_type": "code",
   "execution_count": null,
   "outputs": [],
   "source": [],
   "metadata": {
    "collapsed": false
   }
  }
 ],
 "metadata": {
  "kernelspec": {
   "display_name": "Python 3",
   "language": "python",
   "name": "python3"
  },
  "language_info": {
   "codemirror_mode": {
    "name": "ipython",
    "version": 2
   },
   "file_extension": ".py",
   "mimetype": "text/x-python",
   "name": "python",
   "nbconvert_exporter": "python",
   "pygments_lexer": "ipython2",
   "version": "2.7.6"
  }
 },
 "nbformat": 4,
 "nbformat_minor": 0
}
